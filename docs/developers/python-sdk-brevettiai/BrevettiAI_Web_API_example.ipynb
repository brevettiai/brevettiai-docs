{
  "nbformat": 4,
  "nbformat_minor": 0,
  "metadata": {
    "colab": {
      "name": "BrevettiAI Web API example.ipynb",
      "provenance": [],
      "collapsed_sections": []
    },
    "kernelspec": {
      "display_name": "tf2",
      "language": "python",
      "name": "tf2"
    },
    "language_info": {
      "codemirror_mode": {
        "name": "ipython",
        "version": 3
      },
      "file_extension": ".py",
      "mimetype": "text/x-python",
      "name": "python",
      "nbconvert_exporter": "python",
      "pygments_lexer": "ipython3",
      "version": "3.7.8"
    }
  },
  "cells": [
    {
      "cell_type": "markdown",
      "metadata": {
        "id": "uzEXlRHhEavu"
      },
      "source": [
        "# Brevetti AI package installation"
      ]
    },
    {
      "cell_type": "code",
      "metadata": {
        "id": "Z7MCqSgiEY83",
        "colab": {
          "base_uri": "https://localhost:8080/"
        },
        "outputId": "46039eec-5c05-4a42-de42-b3f27b3c8dfb"
      },
      "source": [
        "pip install -U git+https://bitbucket.org/criterionai/core"
      ],
      "execution_count": null,
      "outputs": [
        {
          "output_type": "stream",
          "text": [
            "Collecting git+https://bitbucket.org/criterionai/core\n",
            "  Cloning https://bitbucket.org/criterionai/core to /tmp/pip-req-build-n_r_smy3\n",
            "  Running command git clone -q https://bitbucket.org/criterionai/core /tmp/pip-req-build-n_r_smy3\n",
            "Collecting backoff>=1.10\n",
            "  Downloading https://files.pythonhosted.org/packages/f0/32/c5dd4f4b0746e9ec05ace2a5045c1fc375ae67ee94355344ad6c7005fd87/backoff-1.10.0-py2.py3-none-any.whl\n",
            "Requirement already satisfied, skipping upgrade: numpy>=1.18 in /usr/local/lib/python3.6/dist-packages (from brevetti-ai==1.0) (1.18.5)\n",
            "Requirement already satisfied, skipping upgrade: pandas>=1.0.2 in /usr/local/lib/python3.6/dist-packages (from brevetti-ai==1.0) (1.1.4)\n",
            "Collecting configparser\n",
            "  Downloading https://files.pythonhosted.org/packages/08/b2/ef713e0e67f6e7ec7d59aea3ee78d05b39c15930057e724cc6d362a8c3bb/configparser-5.0.1-py3-none-any.whl\n",
            "Collecting minio>=5.0.10\n",
            "\u001b[?25l  Downloading https://files.pythonhosted.org/packages/36/fb/5f8f2768ae1a39e434abc570eac2f950770d64d6d714c914775b729fa507/minio-6.0.0-py2.py3-none-any.whl (72kB)\n",
            "\u001b[K     |████████████████████████████████| 81kB 3.9MB/s \n",
            "\u001b[?25hRequirement already satisfied, skipping upgrade: requests>=2.23.0 in /usr/local/lib/python3.6/dist-packages (from brevetti-ai==1.0) (2.23.0)\n",
            "Requirement already satisfied, skipping upgrade: altair==4.1.0 in /usr/local/lib/python3.6/dist-packages (from brevetti-ai==1.0) (4.1.0)\n",
            "Requirement already satisfied, skipping upgrade: tqdm in /usr/local/lib/python3.6/dist-packages (from brevetti-ai==1.0) (4.41.1)\n",
            "Requirement already satisfied, skipping upgrade: scikit-learn>=0.22 in /usr/local/lib/python3.6/dist-packages (from brevetti-ai==1.0) (0.22.2.post1)\n",
            "Collecting plotly>=4.6.0\n",
            "\u001b[?25l  Downloading https://files.pythonhosted.org/packages/a6/66/af86e9d9bf1a3e4f2dabebeabd02a32e8ddf671a5d072b3af2b011efea99/plotly-4.12.0-py2.py3-none-any.whl (13.1MB)\n",
            "\u001b[K     |████████████████████████████████| 13.1MB 316kB/s \n",
            "\u001b[?25hCollecting tensorflow-addons>=0.11.2\n",
            "\u001b[?25l  Downloading https://files.pythonhosted.org/packages/b3/f8/d6fca180c123f2851035c4493690662ebdad0849a9059d56035434bff5c9/tensorflow_addons-0.11.2-cp36-cp36m-manylinux2010_x86_64.whl (1.1MB)\n",
            "\u001b[K     |████████████████████████████████| 1.1MB 45.6MB/s \n",
            "\u001b[?25hRequirement already satisfied, skipping upgrade: pytz>=2017.2 in /usr/local/lib/python3.6/dist-packages (from pandas>=1.0.2->brevetti-ai==1.0) (2018.9)\n",
            "Requirement already satisfied, skipping upgrade: python-dateutil>=2.7.3 in /usr/local/lib/python3.6/dist-packages (from pandas>=1.0.2->brevetti-ai==1.0) (2.8.1)\n",
            "Requirement already satisfied, skipping upgrade: urllib3 in /usr/local/lib/python3.6/dist-packages (from minio>=5.0.10->brevetti-ai==1.0) (1.24.3)\n",
            "Requirement already satisfied, skipping upgrade: certifi in /usr/local/lib/python3.6/dist-packages (from minio>=5.0.10->brevetti-ai==1.0) (2020.6.20)\n",
            "Requirement already satisfied, skipping upgrade: idna<3,>=2.5 in /usr/local/lib/python3.6/dist-packages (from requests>=2.23.0->brevetti-ai==1.0) (2.10)\n",
            "Requirement already satisfied, skipping upgrade: chardet<4,>=3.0.2 in /usr/local/lib/python3.6/dist-packages (from requests>=2.23.0->brevetti-ai==1.0) (3.0.4)\n",
            "Requirement already satisfied, skipping upgrade: jinja2 in /usr/local/lib/python3.6/dist-packages (from altair==4.1.0->brevetti-ai==1.0) (2.11.2)\n",
            "Requirement already satisfied, skipping upgrade: jsonschema in /usr/local/lib/python3.6/dist-packages (from altair==4.1.0->brevetti-ai==1.0) (2.6.0)\n",
            "Requirement already satisfied, skipping upgrade: toolz in /usr/local/lib/python3.6/dist-packages (from altair==4.1.0->brevetti-ai==1.0) (0.11.1)\n",
            "Requirement already satisfied, skipping upgrade: entrypoints in /usr/local/lib/python3.6/dist-packages (from altair==4.1.0->brevetti-ai==1.0) (0.3)\n",
            "Requirement already satisfied, skipping upgrade: scipy>=0.17.0 in /usr/local/lib/python3.6/dist-packages (from scikit-learn>=0.22->brevetti-ai==1.0) (1.4.1)\n",
            "Requirement already satisfied, skipping upgrade: joblib>=0.11 in /usr/local/lib/python3.6/dist-packages (from scikit-learn>=0.22->brevetti-ai==1.0) (0.17.0)\n",
            "Requirement already satisfied, skipping upgrade: six in /usr/local/lib/python3.6/dist-packages (from plotly>=4.6.0->brevetti-ai==1.0) (1.15.0)\n",
            "Requirement already satisfied, skipping upgrade: retrying>=1.3.3 in /usr/local/lib/python3.6/dist-packages (from plotly>=4.6.0->brevetti-ai==1.0) (1.3.3)\n",
            "Requirement already satisfied, skipping upgrade: typeguard>=2.7 in /usr/local/lib/python3.6/dist-packages (from tensorflow-addons>=0.11.2->brevetti-ai==1.0) (2.7.1)\n",
            "Requirement already satisfied, skipping upgrade: MarkupSafe>=0.23 in /usr/local/lib/python3.6/dist-packages (from jinja2->altair==4.1.0->brevetti-ai==1.0) (1.1.1)\n",
            "Building wheels for collected packages: brevetti-ai\n",
            "  Building wheel for brevetti-ai (setup.py) ... \u001b[?25l\u001b[?25hdone\n",
            "  Created wheel for brevetti-ai: filename=brevetti_ai-1.0-cp36-none-any.whl size=74319 sha256=c234d4290180028c56cc732527a0192e6798bc7a3b8d60069072de536a7af5e3\n",
            "  Stored in directory: /tmp/pip-ephem-wheel-cache-o7ejicm7/wheels/f2/b5/4d/7aa387de3df221d00e09a02515742b513e923b369c6b724a19\n",
            "Successfully built brevetti-ai\n",
            "Installing collected packages: backoff, configparser, minio, plotly, tensorflow-addons, brevetti-ai\n",
            "  Found existing installation: plotly 4.4.1\n",
            "    Uninstalling plotly-4.4.1:\n",
            "      Successfully uninstalled plotly-4.4.1\n",
            "  Found existing installation: tensorflow-addons 0.8.3\n",
            "    Uninstalling tensorflow-addons-0.8.3:\n",
            "      Successfully uninstalled tensorflow-addons-0.8.3\n",
            "Successfully installed backoff-1.10.0 brevetti-ai-1.0 configparser-5.0.1 minio-6.0.0 plotly-4.12.0 tensorflow-addons-0.11.2\n"
          ],
          "name": "stdout"
        }
      ]
    },
    {
      "cell_type": "markdown",
      "metadata": {
        "id": "BqbkhGASC9i6"
      },
      "source": [
        "# BrevettiAI Web API module examples\n",
        "brevettiai platform web api is a lightweight api for interfacing with the brevettiai platform.\n",
        "\n",
        "This notebook documents simple usage of it, in a development context through examples\n",
        "\n",
        "This notebook illustrates the Brevetti AI web access\n",
        "\n",
        "* High level access for automation of tasks on the platform, tagging, dataset management, models, etc...\n",
        "\n",
        "\n",
        "Web access is granted with your website user, allowing you to automate tasks on the platform. In Python this is achieved through the **BrevettiAI** object."
      ]
    },
    {
      "cell_type": "code",
      "metadata": {
        "id": "c6uIDiTBC9i8"
      },
      "source": [
        "# Setup logging\n",
        "import logging\n",
        "log = logging.getLogger(__name__)\n",
        "logging.basicConfig()\n",
        "log.root.setLevel(logging.DEBUG)\n",
        "logging.getLogger(\"urllib3\").setLevel(logging.WARNING)\n",
        "\n",
        "# Imports and setup\n",
        "from brevettiai.platform import BrevettiAI"
      ],
      "execution_count": null,
      "outputs": []
    },
    {
      "cell_type": "markdown",
      "metadata": {
        "id": "71qsHIxXC9jA"
      },
      "source": [
        "# BrevettiAI Access API\n",
        "\n",
        "High level access for automation of tasks on the platform, tagging, dataset management, models, etc...\n",
        "\n",
        "## Platform Login\n",
        "As on the web page you have 15 minutes of access before needing to log back in."
      ]
    },
    {
      "cell_type": "code",
      "metadata": {
        "id": "bu3NPiicC9jB",
        "colab": {
          "base_uri": "https://localhost:8080/"
        },
        "outputId": "3ceea1f4-6ad2-482e-b80d-2db16ff1f025"
      },
      "source": [
        "web = BrevettiAI()"
      ],
      "execution_count": null,
      "outputs": [
        {
          "output_type": "stream",
          "text": [
            "https://platform.brevetti.ai - username: yhns@novonordisk.com\n",
            "Password:··········\n"
          ],
          "name": "stdout"
        }
      ]
    },
    {
      "cell_type": "code",
      "metadata": {
        "id": "K7TvidLVC9jE"
      },
      "source": [
        "help(web)"
      ],
      "execution_count": null,
      "outputs": []
    },
    {
      "cell_type": "markdown",
      "metadata": {
        "id": "ZcEqjHHqC9jI"
      },
      "source": [
        "# List datasets, tags, models...\n",
        "\n",
        "with the web object you can list, manage and edit elements on the web page.\n",
        "Most of the functions require an id, the guid of the object to manipulate. Alternatively to get all use None as id.\n",
        "\n",
        "EX: to list datasets, tags, and models, call get_... with no id (id=None)"
      ]
    },
    {
      "cell_type": "code",
      "metadata": {
        "id": "ivoieBPXC9jI",
        "colab": {
          "base_uri": "https://localhost:8080/"
        },
        "outputId": "a257b691-a73c-4553-871f-059f4060bb03"
      },
      "source": [
        "datasets = web.get_dataset()\n",
        "tags = web.get_tag()\n",
        "models = web.get_model()\n",
        "\n",
        "# List 10 first dataset names\n",
        "[d[\"name\"] for d in datasets][:10]"
      ],
      "execution_count": null,
      "outputs": [
        {
          "output_type": "execute_result",
          "data": {
            "text/plain": [
              "['Kaluga CVT25 2019-05-21 Detemir JJ31529 Plunger',\n",
              " '24-5095910-CC01 ccbottom transformed',\n",
              " 'CVT24 JW55N89 Accepted Particle 1',\n",
              " 'Agar plates: BacSpot test 2/Sep 17 lenw dark',\n",
              " 'Ryzodec test kit : particle defects (Particle 2) ',\n",
              " 'CVT24_CAP_DEVNewCapCrimper_NoAir_LowLight',\n",
              " 'CVT24 JW55R87 Accepted Cap',\n",
              " 'Contentkit 5091000 BottomCC',\n",
              " 'CVT24 5026903 JW56W79 Accepted Particle 1 penmix50',\n",
              " 'CC-bottom: ImageLog_gain60_24-5190232-CC02']"
            ]
          },
          "metadata": {
            "tags": []
          },
          "execution_count": 4
        }
      ]
    },
    {
      "cell_type": "markdown",
      "metadata": {
        "id": "nt6p8qDIC9jL"
      },
      "source": [
        "For a single dataset, model or ... use the get_... functions with an id"
      ]
    },
    {
      "cell_type": "code",
      "metadata": {
        "id": "FPUCMbdiC9jL",
        "colab": {
          "base_uri": "https://localhost:8080/"
        },
        "outputId": "9d49b99b-bda7-45c4-bd8a-4e556e424d0f"
      },
      "source": [
        "dataset = web.get_dataset(datasets[0][\"id\"])\n",
        "dataset"
      ],
      "execution_count": null,
      "outputs": [
        {
          "output_type": "execute_result",
          "data": {
            "text/plain": [
              "{'created': '2019-07-17T21:29:11.528757',\n",
              " 'folderName': '004432c5-5b70-4b65-a1ea-0a790f4b85cd.datasets.criterion.ai',\n",
              " 'folders': [],\n",
              " 'id': '004432c5-5b70-4b65-a1ea-0a790f4b85cd',\n",
              " 'locked': False,\n",
              " 'name': 'Kaluga CVT25 2019-05-21 Detemir JJ31529 Plunger',\n",
              " 'notes': None,\n",
              " 'reference': 'JJ31529',\n",
              " 'tagIds': ['2091bee9-24e3-4bde-9f23-23dd6cb77595',\n",
              "  'a4510257-d135-4dad-90e9-255cfe6b43bb',\n",
              "  '314a61ca-e435-4a17-bd33-12887c67944b',\n",
              "  '952c71bc-0f0e-496d-8d76-53de56c16a17',\n",
              "  '4d925162-abfa-4dfc-b07a-c82e142604e5']}"
            ]
          },
          "metadata": {
            "tags": []
          },
          "execution_count": 5
        }
      ]
    },
    {
      "cell_type": "markdown",
      "metadata": {
        "id": "xkw9RzuJC9jO"
      },
      "source": [
        "## Create Job\n",
        "To enter the job context you can either create a model on the platform or programatically via the web api.\n",
        "\n",
        "The following code finds the firs dataset and creates a model (job) with access to this model.\n",
        "The model context type is the id of a model type on the platform to use.\n",
        "After running the model is available on the website, along with an s3 bucket for artifacts for your job outputs\n",
        "\n",
        "\n",
        "When creating a model you have the option to include datasets and tags and settings defining your model."
      ]
    },
    {
      "cell_type": "code",
      "metadata": {
        "id": "hzvtkGO_C9jP"
      },
      "source": [
        "# Datasets to add to the created job\n",
        "datasets = web.get_dataset()[1:2]\n",
        "\n",
        "# Settings used for the job\n",
        "settings = dict(some_setting_i_need=1)\n",
        "\n",
        "model_context_type = \"a0aaad69-c032-41c1-a68c-e9a15a5fb18c\" # \"Magic\" undocumented uId of *external* job model type\n",
        "\n",
        "model_def = web.create_model(name=f'Test {web.user[\"firstName\"]} {web.user[\"lastName\"]}',\n",
        "                             model_type=model_context_type,\n",
        "                             settings=settings,\n",
        "                             datasets=datasets)"
      ],
      "execution_count": null,
      "outputs": []
    },
    {
      "cell_type": "markdown",
      "metadata": {
        "id": "QhcCbwzXb4jg"
      },
      "source": [
        "## Start job"
      ]
    },
    {
      "cell_type": "markdown",
      "metadata": {
        "id": "U3wZ_OpPb4jg"
      },
      "source": [
        "The model id and the model api key gives you access to use the python sdk to access data, and to upload artifacts and lots of other cool stuff. To enable this, we need to start model training - this is the same as selecting \"Simulate training\" on the platform."
      ]
    },
    {
      "cell_type": "code",
      "metadata": {
        "id": "eSYwo9ixb4jh"
      },
      "source": [
        "# Starting training in simulate mode\n",
        "web.start_model_training(model=model_def['id'])\n",
        "print(f\"Model url: {web.baseurl}/models/{model_def['id']} (Please check it out :)\\n\")\n",
        "print(\"To access data and model through python SDK use the following\")\n",
        "print(f\"Model id: {model_def['id']}\")\n",
        "print(f\"Model api key: {model_def['apiKey']}\")"
      ],
      "execution_count": null,
      "outputs": []
    }
  ]
}