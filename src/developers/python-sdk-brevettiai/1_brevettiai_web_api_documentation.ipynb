{
 "cells": [
  {
   "cell_type": "markdown",
   "metadata": {
    "id": "sU83z35oboyp"
   },
   "source": [
    "# Introduction\n",
    "The python web api implementation found in the brevettai package gives a lightweight programmatical interface to all the functionality that the [Brevetti AI platform](https://platform.brevetti.ai) offers.\n",
    "\n",
    "This enables high level access for\n",
    "* automation of tasks on the platform\n",
    "* tagging of datasets or models\n",
    "* dataset management\n",
    "* managing models etc...\n",
    "\n",
    "This document shows how this api can be used to get access to datasets and create a model training job.\n",
    "\n",
    "Web access is granted with your website user, allowing you to automate tasks on the platform. In Python this is achieved through the **BrevettiAI** object."
   ]
  },
  {
   "cell_type": "markdown",
   "metadata": {
    "id": "uzEXlRHhEavu"
   },
   "source": [
    "# Brevetti AI package installation and imports\n",
    "Install brevettiai using the pip package manager."
   ]
  },
  {
   "cell_type": "code",
   "execution_count": null,
   "metadata": {
    "id": "Z7MCqSgiEY83"
   },
   "outputs": [],
   "source": [
    "pip install brevettiai"
   ]
  },
  {
   "cell_type": "code",
   "execution_count": null,
   "metadata": {
    "id": "c6uIDiTBC9i8"
   },
   "outputs": [],
   "source": [
    "# Setup logging to avoid verbosity\n",
    "import logging\n",
    "log = logging.getLogger(__name__)\n",
    "logging.basicConfig()\n",
    "log.root.setLevel(logging.DEBUG)\n",
    "logging.getLogger(\"urllib3\").setLevel(logging.WARNING)\n",
    "logging.getLogger(\"tensorflow\").setLevel(logging.WARNING)\n",
    "logging.getLogger(\"matplotlib\").setLevel(logging.WARNING)"
   ]
  },
  {
   "cell_type": "markdown",
   "metadata": {
    "id": "71qsHIxXC9jA"
   },
   "source": [
    "# API: BrevettiAI Login\n",
    "\n",
    "High level access for automation of tasks on the platform, tagging, dataset management, models, etc...\n",
    "\n",
    "## Platform Login\n",
    "As on the web page you have 60 minutes of access before needing to log back in."
   ]
  },
  {
   "cell_type": "code",
   "execution_count": 2,
   "metadata": {
    "id": "bu3NPiicC9jB"
   },
   "outputs": [
    {
     "name": "stdout",
     "output_type": "stream",
     "text": [
      "Help on PlatformAPI in module brevettiai.platform.web_api object:\n",
      "\n",
      "class PlatformAPI(builtins.object)\n",
      " |  PlatformAPI(username=None, password=None, host=None, remember_me=False)\n",
      " |  \n",
      " |  Methods defined here:\n",
      " |  \n",
      " |  __init__(self, username=None, password=None, host=None, remember_me=False)\n",
      " |      Initialize self.  See help(type(self)) for accurate signature.\n",
      " |  \n",
      " |  create(self, obj: Union[brevettiai.platform.models.dataset.Dataset, brevettiai.platform.models.tag.Tag, brevettiai.platform.models.web_api_types.Model, brevettiai.platform.models.web_api_types.Report], **kwargs)\n",
      " |  \n",
      " |  create_model(self, name, datasets, settings: brevettiai.platform.models.job.JobSettings = None, model_type=None, tags=None, application: brevettiai.platform.models.web_api_types.Application = None)\n",
      " |      Create a model on the platform\n",
      " |      \n",
      " |      Args:\n",
      " |          name:\n",
      " |          datasets:\n",
      " |          settings:\n",
      " |          model_type:\n",
      " |          tags:\n",
      " |          application:\n",
      " |      \n",
      " |      Returns:\n",
      " |          Model after its creation on the platform\n",
      " |  \n",
      " |  create_sftp_user(self, dataset, **kwargs) -> brevettiai.platform.models.web_api_types.SftpUser\n",
      " |  \n",
      " |  create_testreport(self, name, model, datasets, report_type, settings, tags=None, submitToCloud=False)\n",
      " |      Create a test report on the platform\n",
      " |      \n",
      " |      Args:\n",
      " |          name:\n",
      " |          model:\n",
      " |          datasets:\n",
      " |          report_type:\n",
      " |          settings:\n",
      " |          tags:\n",
      " |          submitToCloud: start test report in the cloud\n",
      " |      \n",
      " |      Returns:\n",
      " |          Test report after its creation on the platform\n",
      " |  \n",
      " |  delete(self, obj: Union[brevettiai.platform.models.dataset.Dataset, brevettiai.platform.models.tag.Tag, brevettiai.platform.models.web_api_types.Model, brevettiai.platform.models.web_api_types.Report, brevettiai.platform.models.web_api_types.SftpUser])\n",
      " |  \n",
      " |  download_url(self, url, dst=None, headers=None)\n",
      " |  \n",
      " |  get_application(self, id=None) -> Union[brevettiai.platform.models.web_api_types.Application, List[brevettiai.platform.models.web_api_types.Application]]\n",
      " |      Get application by id\n",
      " |      \n",
      " |      Args:\n",
      " |          id:\n",
      " |      \n",
      " |      Returns:\n",
      " |          application if id is given, otherwise a list of applications\n",
      " |  \n",
      " |  get_artifacts(self, obj: Union[brevettiai.platform.models.web_api_types.Model, brevettiai.platform.models.web_api_types.Report], prefix: str = '') -> List[brevettiai.platform.models.web_api_types.FileEntry]\n",
      " |      Get artifacts for model or test report\n",
      " |      \n",
      " |      Args:\n",
      " |          obj: model/test report object\n",
      " |          prefix: object prefix (folder)\n",
      " |      \n",
      " |      Returns:\n",
      " |          List of files\n",
      " |  \n",
      " |  get_available_model_types(self)\n",
      " |      List all available model types\n",
      " |  \n",
      " |  get_dataset(self, id: str = None, write_access=False, **kwargs) -> Union[brevettiai.platform.models.dataset.Dataset, List[brevettiai.platform.models.dataset.Dataset]]\n",
      " |      Get dataset, or list of all datasets\n",
      " |      \n",
      " |      Args:\n",
      " |          id: dataset id\n",
      " |          write_access: resolve accessrights to the dataset\n",
      " |          **kwargs: Extended search criteria: use ('name', 'reference' 'locked', ...)\n",
      " |      \n",
      " |      Returns:\n",
      " |          dataset if id is given, otherwise list of datasets\n",
      " |  \n",
      " |  get_dataset_sts_assume_role_response(self, guid)\n",
      " |  \n",
      " |  get_device(self, id=None)\n",
      " |  \n",
      " |  get_model(self, id=None, **kwargs) -> Union[brevettiai.platform.models.web_api_types.Model, List[brevettiai.platform.models.web_api_types.Model]]\n",
      " |      Get model or list of all models\n",
      " |      \n",
      " |      Args:\n",
      " |          id: model id\n",
      " |          **kwargs: Extended search criteria: use ('name', 'reference' 'locked', ...)\n",
      " |      \n",
      " |      Returns:\n",
      " |          model if id is given, otherwise a list of models\n",
      " |  \n",
      " |  get_modeltype(self, id=None, master=False) -> Union[brevettiai.platform.models.web_api_types.ModelType, List[brevettiai.platform.models.web_api_types.ModelType]]\n",
      " |      Get model type\n",
      " |      \n",
      " |      Args:\n",
      " |          id:\n",
      " |          master: use master mode\n",
      " |      \n",
      " |      Returns:\n",
      " |  \n",
      " |  get_project(self, id=None) -> Union[brevettiai.platform.models.web_api_types.Project, List[brevettiai.platform.models.web_api_types.Project]]\n",
      " |  \n",
      " |  get_report(self, id=None, **kwargs) -> Union[brevettiai.platform.models.web_api_types.Report, List[brevettiai.platform.models.web_api_types.Report]]\n",
      " |      Get test report, or list of all reports\n",
      " |      \n",
      " |      Args:\n",
      " |          id: report id\n",
      " |          **kwargs: Extended search criteria: use ('name', 'reference' 'locked', ...)\n",
      " |      \n",
      " |      Returns:\n",
      " |          report if id is given, otherwise a list of reports\n",
      " |  \n",
      " |  get_reporttype(self, id=None, master=False) -> Union[brevettiai.platform.models.web_api_types.ReportType, List[brevettiai.platform.models.web_api_types.ReportType]]\n",
      " |      Get report type\n",
      " |      \n",
      " |      Args:\n",
      " |          id:\n",
      " |          master: use master mode\n",
      " |      \n",
      " |      Returns:\n",
      " |  \n",
      " |  get_schema(self, obj: Union[brevettiai.platform.models.web_api_types.ModelType, brevettiai.platform.models.web_api_types.ReportType])\n",
      " |      Get schema for a certain model type\n",
      " |      \n",
      " |      Args:\n",
      " |          obj: modeltype or report type\n",
      " |      \n",
      " |      Returns:\n",
      " |  \n",
      " |  get_sftp_users(self, dataset, **kwargs) -> List[brevettiai.platform.models.web_api_types.SftpUser]\n",
      " |  \n",
      " |  get_tag(self, id=None) -> Union[brevettiai.platform.models.tag.Tag, List[brevettiai.platform.models.tag.Tag]]\n",
      " |      Get tag or list of all tags\n",
      " |      \n",
      " |      Args:\n",
      " |          id: Tag id\n",
      " |      \n",
      " |      Returns:\n",
      " |          tag if id is given, otherwise a list of tags\n",
      " |  \n",
      " |  get_userinfo(self)\n",
      " |      Get info on user\n",
      " |  \n",
      " |  initialize_report(self, report: Union[str, brevettiai.platform.models.web_api_types.Report], job_type: Type[brevettiai.platform.models.job.Job] = None) -> Union[brevettiai.platform.models.job.Job, NoneType]\n",
      " |      Start training flow of a model\n",
      " |      \n",
      " |      Args:\n",
      " |          report: model or model id\n",
      " |          job_type:\n",
      " |      \n",
      " |      Returns:\n",
      " |          Job\n",
      " |  \n",
      " |  initialize_training(self, model: Union[str, brevettiai.platform.models.web_api_types.Model], job_type: Type[brevettiai.platform.models.job.Job] = None, submitToCloud=False) -> Union[brevettiai.platform.models.job.Job, NoneType]\n",
      " |      Start training flow of a model\n",
      " |      \n",
      " |      Args:\n",
      " |          model: model or model id\n",
      " |          job_type:\n",
      " |          submitToCloud: start model in the cloud\n",
      " |      \n",
      " |      Returns:\n",
      " |          Job if submitToCloud is false, otherwise None\n",
      " |  \n",
      " |  login(self, username, password, remember_me=False)\n",
      " |  \n",
      " |  stop_model_training(self, model)\n",
      " |      Stop training of model\n",
      " |      \n",
      " |      Args:\n",
      " |          model:\n",
      " |      \n",
      " |      Returns:\n",
      " |  \n",
      " |  update(self, obj, master=False)\n",
      " |  \n",
      " |  update_dataset_permission(self, id, user_id, group_id=None, permission_type='Editor')\n",
      " |      Update dataset permissions for user\n",
      " |      \n",
      " |      Args:\n",
      " |          id:\n",
      " |          user_id:\n",
      " |          group_id:\n",
      " |          permission_type:\n",
      " |      \n",
      " |      Returns:\n",
      " |  \n",
      " |  ----------------------------------------------------------------------\n",
      " |  Data descriptors defined here:\n",
      " |  \n",
      " |  __dict__\n",
      " |      dictionary for instance variables (if defined)\n",
      " |  \n",
      " |  __weakref__\n",
      " |      list of weak references to the object (if defined)\n",
      " |  \n",
      " |  antiforgery_headers\n",
      " |      Get anti forgery headers from platform\n",
      " |      \n",
      " |      :return:\n",
      " |  \n",
      " |  backend\n",
      " |  \n",
      " |  host\n",
      " |  \n",
      " |  io\n",
      "\n"
     ]
    }
   ],
   "source": [
    "# Imports and setup\n",
    "from brevettiai.platform import BrevettiAI\n",
    "\n",
    "web = BrevettiAI()\n",
    "\n",
    "help(web)"
   ]
  },
  {
   "cell_type": "markdown",
   "metadata": {
    "id": "ZcEqjHHqC9jI"
   },
   "source": [
    "# API: Element acces, list datasets, tags, models...\n",
    "\n",
    "with the web object you can list, manage and edit elements on the web page.\n",
    "Most of the functions require an id, the guid of the object to manipulate. Alternatively to get all use None as id.\n",
    "\n",
    "EX: to list datasets, tags, and models, call get_... with no id (id=None)"
   ]
  },
  {
   "cell_type": "code",
   "execution_count": 3,
   "metadata": {
    "id": "ivoieBPXC9jI"
   },
   "outputs": [
    {
     "data": {
      "text/plain": [
       "['NeurIPS 2018',\n",
       " 'NeurIPS 2018 large',\n",
       " 'Blood Cell Images',\n",
       " 'Agar plates',\n",
       " 'NeurIPS vials TRAIN']"
      ]
     },
     "execution_count": 3,
     "metadata": {},
     "output_type": "execute_result"
    }
   ],
   "source": [
    "datasets = web.get_dataset()\n",
    "tags = web.get_tag()\n",
    "models = web.get_model()\n",
    "\n",
    "# List 10 first dataset names\n",
    "[d.name for d in datasets][:10]"
   ]
  },
  {
   "cell_type": "markdown",
   "metadata": {
    "id": "nt6p8qDIC9jL"
   },
   "source": [
    "For a single dataset, model or ... use the get_... functions with an id"
   ]
  },
  {
   "cell_type": "code",
   "execution_count": 4,
   "metadata": {
    "id": "FPUCMbdiC9jL"
   },
   "outputs": [
    {
     "data": {
      "text/plain": [
       "Dataset(id='21263db3-1c9b-456b-be1d-ecfa2afb5d99', bucket='s3://data.criterion.ai/21263db3-1c9b-456b-be1d-ecfa2afb5d99', name='NeurIPS 2018', locked=False, reference='Batch HW0001', notes='', tags=[])"
      ]
     },
     "execution_count": 4,
     "metadata": {},
     "output_type": "execute_result"
    }
   ],
   "source": [
    "dataset = web.get_dataset(datasets[0].id)\n",
    "dataset"
   ]
  },
  {
   "cell_type": "markdown",
   "metadata": {
    "id": "gEZysRXkHuB6"
   },
   "source": [
    "# API: Customized Job Settings\n",
    "Settings are esstentially the serialized configuration of a training job algorithm.\n",
    "Settings can be used for a training job configuration by letting a user change settings, and settings are included in the default job output, such that the parameters of a training job can be saved and tracked for comparison and audit purposes."
   ]
  },
  {
   "cell_type": "code",
   "execution_count": 5,
   "metadata": {
    "id": "TV8i-58qH1mT"
   },
   "outputs": [
    {
     "name": "stdout",
     "output_type": "stream",
     "text": [
      "extra={} multiply_factor=3.0 enable=True 6.0\n"
     ]
    }
   ],
   "source": [
    "from brevettiai import Job, JobSettings\n",
    "        \n",
    "class MyAlgoObject(JobSettings):\n",
    "    multiply_factor: float = 2.0\n",
    "    enable : bool = True\n",
    "\n",
    "    def __call__(self, x):\n",
    "        factor = 1.0\n",
    "        if self.enable:\n",
    "            factor *= self.multiply_factor\n",
    "        return x * factor\n",
    "test_obj = MyAlgoObject(multiply_factor=3.0)\n",
    "\n",
    "# Settings used for creating the job\n",
    "print(test_obj, test_obj(2))"
   ]
  },
  {
   "cell_type": "code",
   "execution_count": 6,
   "metadata": {},
   "outputs": [],
   "source": [
    "class MyJob(Job):\n",
    "    settings: MyAlgoObject\n",
    "    \n",
    "    def run(self): # This function should be overloaded and is run when job is started\n",
    "\n",
    "        print(f\"Run my custom code using custom parameters : {self.settings.__dict__}\")\n",
    "        print(f\"Result on input 2.0: {self.settings(2.0)}\")\n",
    "        return None # Return path to model artifacts to be uploaded after job is completed\n",
    "        \n"
   ]
  },
  {
   "cell_type": "markdown",
   "metadata": {
    "id": "xkw9RzuJC9jO"
   },
   "source": [
    "# API: Create Model Training Job\n",
    "To enter the job context you can either create a model on the platform or programatically via the web api.\n",
    "\n",
    "The following code finds the firs dataset and creates a model (job) with access to this model.\n",
    "The model context type is the id of a model type on the platform to use.\n",
    "After running the model is available on the website, along with an s3 bucket for artifacts for your job outputs\n",
    "\n",
    "\n",
    "When creating a model you have the option to include datasets and tags and settings defining your model."
   ]
  },
  {
   "cell_type": "code",
   "execution_count": 7,
   "metadata": {
    "id": "hzvtkGO_C9jP"
   },
   "outputs": [],
   "source": [
    "# Datasets to add to the created job\n",
    "datasets = web.get_dataset()[1:2]\n",
    "\n",
    "model = web.create_model(name=f'Test {web.user[\"firstName\"]} {web.user[\"lastName\"]}',\n",
    "                         settings=test_obj,\n",
    "                         datasets=datasets)"
   ]
  },
  {
   "cell_type": "markdown",
   "metadata": {
    "id": "QhcCbwzXb4jg"
   },
   "source": [
    "## Start job"
   ]
  },
  {
   "cell_type": "markdown",
   "metadata": {
    "id": "U3wZ_OpPb4jg"
   },
   "source": [
    "The model id and the model api key gives you access to use the python sdk to access data, and to upload artifacts and lots of other cool stuff. To enable this, we need to start model training - this is the same as selecting \"Simulate training\" on the platform."
   ]
  },
  {
   "cell_type": "code",
   "execution_count": 8,
   "metadata": {
    "id": "eSYwo9ixb4jh"
   },
   "outputs": [
    {
     "name": "stderr",
     "output_type": "stream",
     "text": [
      "INFO:brevettiai.platform.models.job:<class '__main__.MyJob'> initialized\n"
     ]
    },
    {
     "name": "stdout",
     "output_type": "stream",
     "text": [
      "Model url: https://platform.brevetti.ai/models/39ae1701-7272-474a-a9b6-7702037dfb93 (Please check it out :)\n",
      "\n",
      "To access data and model through python SDK use the following\n",
      "Model id: 39ae1701-7272-474a-a9b6-7702037dfb93\n",
      "Model api key (invalid when job is completed, or model i deleted)): JTJA4JkW70PbG0LOjD5rhDfE\n"
     ]
    }
   ],
   "source": [
    "# Starting training in simulate mode\n",
    "job = web.initialize_training(model=model, job_type=MyJob)\n",
    "print(f\"Model url: {web.host}/models/{model.id} (Please check it out :)\\n\")\n",
    "print(\"To access data and model through python SDK use the following\")\n",
    "print(f\"Model id: {model.id}\")\n",
    "print(f\"Model api key (invalid when job is completed, or model i deleted)): {model.api_key}\")"
   ]
  },
  {
   "cell_type": "code",
   "execution_count": 9,
   "metadata": {},
   "outputs": [
    {
     "name": "stderr",
     "output_type": "stream",
     "text": [
      "INFO:brevettiai.platform.models.job:Uploading output.json to s3://data.criterion.ai/39ae1701-7272-474a-a9b6-7702037dfb93/artifacts/output.json\n"
     ]
    },
    {
     "name": "stdout",
     "output_type": "stream",
     "text": [
      "Run my custom code using custom parameters : {'extra': {'extra': {}}, 'multiply_factor': 3.0, 'enable': True}\n",
      "Result on input 2.0: 6.0\n"
     ]
    },
    {
     "name": "stderr",
     "output_type": "stream",
     "text": [
      "INFO:brevettiai.platform.models.job:Uploading output.json to s3://data.criterion.ai/39ae1701-7272-474a-a9b6-7702037dfb93/artifacts/output.json\n",
      "INFO:brevettiai.platform.models.job:Job completed: modelPath=\n"
     ]
    }
   ],
   "source": [
    "job.start()"
   ]
  },
  {
   "cell_type": "markdown",
   "metadata": {},
   "source": [
    "# API: Create dataset and upload data\n",
    "Datasets can be created and accessed from the command line, or from code.\n",
    "\n"
   ]
  },
  {
   "cell_type": "code",
   "execution_count": 13,
   "metadata": {},
   "outputs": [
    {
     "name": "stderr",
     "output_type": "stream",
     "text": [
      "INFO:brevettiai.platform.models.dataset:Getting image samples from dataset 'NeurIPS 2018 large' [https://platform.brevetti.ai/data/4679259e-7a0a-4e85-90cf-a52f3451cf38]\n",
      "INFO:brevettiai.platform.models.dataset:Contents: {('good',): 97, ('missing_cap',): 96, ('failed_cap',): 94}\n"
     ]
    },
    {
     "data": {
      "text/plain": [
       "150582"
      ]
     },
     "execution_count": 13,
     "metadata": {},
     "output_type": "execute_result"
    }
   ],
   "source": [
    "import os\n",
    "\n",
    "dataset = job.datasets[0]\n",
    "samples = dataset.get_image_samples()\n",
    "file_name_0 = samples.path.iloc[0].split(\"/\")[-1]\n",
    "os.makedirs(\"test_upload\", exist_ok=True)\n",
    "job.io.copy(samples.path.iloc[0], os.path.join(\"test_upload\", file_name_0))\n"
   ]
  },
  {
   "cell_type": "code",
   "execution_count": 23,
   "metadata": {},
   "outputs": [
    {
     "data": {
      "text/plain": [
       "2"
      ]
     },
     "execution_count": 23,
     "metadata": {},
     "output_type": "execute_result"
    }
   ],
   "source": [
    "os.system(\"python -m brevettiai.utils.upload_data test_upload --name \\\"Test dataset: NeurIPS demo data single image\\\" \")"
   ]
  },
  {
   "cell_type": "markdown",
   "metadata": {
    "id": "0wa6DnwmFwIp"
   },
   "source": [
    "## NB: Clean up"
   ]
  },
  {
   "cell_type": "markdown",
   "metadata": {},
   "source": [
    "### Delete job\n",
    "If the job has not been deployed, and you are e.g. just testing interfaces, you may delete a job"
   ]
  },
  {
   "cell_type": "code",
   "execution_count": 10,
   "metadata": {
    "id": "GbaazA-7FukP"
   },
   "outputs": [],
   "source": [
    "# NB: delete model, there is no simple \"undo\" funcionality for this\n",
    "web.delete(model)"
   ]
  },
  {
   "cell_type": "markdown",
   "metadata": {},
   "source": [
    "### Delete new dataset"
   ]
  },
  {
   "cell_type": "code",
   "execution_count": null,
   "metadata": {},
   "outputs": [],
   "source": [
    "new_dataset = web.get_dataset(name=\"Test dataset: NeurIPS demo data single image\")\n",
    "web.delete(new_dataset)"
   ]
  }
 ],
 "metadata": {
  "colab": {
   "collapsed_sections": [],
   "name": "brevettiai_web_api_documentation.ipynb",
   "provenance": [],
   "toc_visible": true
  },
  "kernelspec": {
   "display_name": "tf2",
   "language": "python",
   "name": "tf2"
  },
  "language_info": {
   "codemirror_mode": {
    "name": "ipython",
    "version": 3
   },
   "file_extension": ".py",
   "mimetype": "text/x-python",
   "name": "python",
   "nbconvert_exporter": "python",
   "pygments_lexer": "ipython3",
   "version": "3.7.8"
  }
 },
 "nbformat": 4,
 "nbformat_minor": 1
}
