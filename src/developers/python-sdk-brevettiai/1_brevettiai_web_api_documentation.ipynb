{
 "cells": [
  {
   "cell_type": "markdown",
   "metadata": {
    "id": "sU83z35oboyp"
   },
   "source": [
    "# Introduction\n",
    "The python web api implementation found in the brevettai package gives a lightweight programmatical interface to all the functionality that the [Brevetti AI platform](https://platform.brevetti.ai) offers.\n",
    "\n",
    "This enables high level access for\n",
    "* automation of tasks on the platform\n",
    "* tagging of datasets or models\n",
    "* dataset management\n",
    "* managing models etc...\n",
    "\n",
    "This document shows how this api can be used to get access to datasets and create a model training job.\n",
    "\n",
    "Web access is granted with your website user, allowing you to automate tasks on the platform. In Python this is achieved through the **BrevettiAI** object."
   ]
  },
  {
   "cell_type": "markdown",
   "metadata": {
    "id": "uzEXlRHhEavu"
   },
   "source": [
    "# Brevetti AI package installation and imports\n",
    "Install brevettiai using the pip package manager."
   ]
  },
  {
   "cell_type": "code",
   "execution_count": 3,
   "metadata": {
    "id": "Z7MCqSgiEY83"
   },
   "outputs": [
    {
     "name": "stdout",
     "output_type": "stream",
     "text": [
      "Requirement already satisfied: brevettiai~=0.2.0 in c:\\users\\michael sass hansen\\appdata\\local\\programs\\python\\python37\\lib\\site-packages (0.2.1)\n",
      "Requirement already satisfied: requests>=2.23 in c:\\users\\michael sass hansen\\appdata\\local\\programs\\python\\python37\\lib\\site-packages (from brevettiai~=0.2.0) (2.24.0)\n",
      "Requirement already satisfied: plotly>=4.14.3 in c:\\users\\michael sass hansen\\appdata\\local\\programs\\python\\python37\\lib\\site-packages (from brevettiai~=0.2.0) (4.14.3)\n",
      "Requirement already satisfied: shapely>=1.7.0 in c:\\users\\michael sass hansen\\appdata\\local\\programs\\python\\python37\\lib\\site-packages (from brevettiai~=0.2.0) (1.7.1)\n",
      "Requirement already satisfied: tf2onnx>=1.9.0 in c:\\users\\michael sass hansen\\appdata\\local\\programs\\python\\python37\\lib\\site-packages (from brevettiai~=0.2.0) (1.9.3)\n",
      "Requirement already satisfied: altair==4.1.0 in c:\\users\\michael sass hansen\\appdata\\local\\programs\\python\\python37\\lib\\site-packages (from brevettiai~=0.2.0) (4.1.0)\n",
      "Requirement already satisfied: mmh3>=3.0 in c:\\users\\michael sass hansen\\appdata\\local\\programs\\python\\python37\\lib\\site-packages (from brevettiai~=0.2.0) (3.0.0)\n",
      "Requirement already satisfied: configparser>=5.0 in c:\\users\\michael sass hansen\\appdata\\local\\programs\\python\\python37\\lib\\site-packages (from brevettiai~=0.2.0) (5.0.0)\n",
      "Requirement already satisfied: scikit-learn>=0.23.1 in c:\\users\\michael sass hansen\\appdata\\local\\programs\\python\\python37\\lib\\site-packages (from brevettiai~=0.2.0) (0.24.1)\n",
      "Requirement already satisfied: cryptography<37.0.0,>=36.0.1 in c:\\users\\michael sass hansen\\appdata\\local\\programs\\python\\python37\\lib\\site-packages (from brevettiai~=0.2.0) (36.0.1)\n",
      "Requirement already satisfied: numpy>=1.18.1 in c:\\users\\michael sass hansen\\appdata\\local\\programs\\python\\python37\\lib\\site-packages (from brevettiai~=0.2.0) (1.19.5)\n",
      "Requirement already satisfied: minio<7.1,>=7.0 in c:\\users\\michael sass hansen\\appdata\\local\\programs\\python\\python37\\lib\\site-packages (from brevettiai~=0.2.0) (7.0.1)\n",
      "Requirement already satisfied: tqdm>=4.62 in c:\\users\\michael sass hansen\\appdata\\local\\programs\\python\\python37\\lib\\site-packages (from brevettiai~=0.2.0) (4.62.3)\n",
      "Requirement already satisfied: pandas<1.2,>=1.1 in c:\\users\\michael sass hansen\\appdata\\local\\programs\\python\\python37\\lib\\site-packages (from brevettiai~=0.2.0) (1.1.5)\n",
      "Requirement already satisfied: backoff>=1.10 in c:\\users\\michael sass hansen\\appdata\\local\\programs\\python\\python37\\lib\\site-packages (from brevettiai~=0.2.0) (1.11.1)\n",
      "Requirement already satisfied: pydantic>=1.8.2 in c:\\users\\michael sass hansen\\appdata\\local\\programs\\python\\python37\\lib\\site-packages (from brevettiai~=0.2.0) (1.8.2)\n",
      "Requirement already satisfied: jsonschema in c:\\users\\michael sass hansen\\appdata\\local\\programs\\python\\python37\\lib\\site-packages (from altair==4.1.0->brevettiai~=0.2.0) (3.2.0)\n",
      "Requirement already satisfied: entrypoints in c:\\users\\michael sass hansen\\appdata\\local\\programs\\python\\python37\\lib\\site-packages (from altair==4.1.0->brevettiai~=0.2.0) (0.3)\n",
      "Requirement already satisfied: pandas<1.2,>=1.1 in c:\\users\\michael sass hansen\\appdata\\local\\programs\\python\\python37\\lib\\site-packages (from brevettiai~=0.2.0) (1.1.5)\n",
      "Requirement already satisfied: numpy>=1.18.1 in c:\\users\\michael sass hansen\\appdata\\local\\programs\\python\\python37\\lib\\site-packages (from brevettiai~=0.2.0) (1.19.5)\n",
      "Requirement already satisfied: jinja2 in c:\\users\\michael sass hansen\\appdata\\local\\programs\\python\\python37\\lib\\site-packages (from altair==4.1.0->brevettiai~=0.2.0) (2.11.2)\n",
      "Requirement already satisfied: toolz in c:\\users\\michael sass hansen\\appdata\\local\\programs\\python\\python37\\lib\\site-packages (from altair==4.1.0->brevettiai~=0.2.0) (0.11.1)\n",
      "Requirement already satisfied: cffi>=1.12 in c:\\users\\michael sass hansen\\appdata\\local\\programs\\python\\python37\\lib\\site-packages (from cryptography<37.0.0,>=36.0.1->brevettiai~=0.2.0) (1.14.1)"
     ]
    },
    {
     "name": "stderr",
     "output_type": "stream",
     "text": [
      "WARNING: You are using pip version 20.3.1; however, version 21.3.1 is available.\n",
      "You should consider upgrading via the 'c:\\users\\michael sass hansen\\appdata\\local\\programs\\python\\python37\\python.exe -m pip install --upgrade pip' command.\n"
     ]
    },
    {
     "name": "stdout",
     "output_type": "stream",
     "text": [
      "\n",
      "Requirement already satisfied: pycparser in c:\\users\\michael sass hansen\\appdata\\local\\programs\\python\\python37\\lib\\site-packages (from cffi>=1.12->cryptography<37.0.0,>=36.0.1->brevettiai~=0.2.0) (2.20)\n",
      "Requirement already satisfied: MarkupSafe>=0.23 in c:\\users\\michael sass hansen\\appdata\\local\\programs\\python\\python37\\lib\\site-packages (from jinja2->altair==4.1.0->brevettiai~=0.2.0) (1.1.1)\n",
      "Requirement already satisfied: setuptools in c:\\users\\michael sass hansen\\appdata\\local\\programs\\python\\python37\\lib\\site-packages (from jsonschema->altair==4.1.0->brevettiai~=0.2.0) (47.1.0)\n",
      "Requirement already satisfied: pyrsistent>=0.14.0 in c:\\users\\michael sass hansen\\appdata\\local\\programs\\python\\python37\\lib\\site-packages (from jsonschema->altair==4.1.0->brevettiai~=0.2.0) (0.16.0)\n",
      "Requirement already satisfied: attrs>=17.4.0 in c:\\users\\michael sass hansen\\appdata\\local\\programs\\python\\python37\\lib\\site-packages (from jsonschema->altair==4.1.0->brevettiai~=0.2.0) (19.3.0)\n",
      "Requirement already satisfied: importlib-metadata in c:\\users\\michael sass hansen\\appdata\\local\\programs\\python\\python37\\lib\\site-packages (from jsonschema->altair==4.1.0->brevettiai~=0.2.0) (1.7.0)\n",
      "Requirement already satisfied: six>=1.11.0 in c:\\users\\michael sass hansen\\appdata\\local\\programs\\python\\python37\\lib\\site-packages (from jsonschema->altair==4.1.0->brevettiai~=0.2.0) (1.15.0)\n",
      "Requirement already satisfied: zipp>=0.5 in c:\\users\\michael sass hansen\\appdata\\local\\programs\\python\\python37\\lib\\site-packages (from importlib-metadata->jsonschema->altair==4.1.0->brevettiai~=0.2.0) (3.1.0)\n",
      "Requirement already satisfied: certifi in c:\\users\\michael sass hansen\\appdata\\local\\programs\\python\\python37\\lib\\site-packages (from minio<7.1,>=7.0->brevettiai~=0.2.0) (2020.6.20)\n",
      "Requirement already satisfied: urllib3 in c:\\users\\michael sass hansen\\appdata\\local\\programs\\python\\python37\\lib\\site-packages (from minio<7.1,>=7.0->brevettiai~=0.2.0) (1.25.10)\n",
      "Requirement already satisfied: python-dateutil>=2.7.3 in c:\\users\\michael sass hansen\\appdata\\local\\programs\\python\\python37\\lib\\site-packages (from pandas<1.2,>=1.1->brevettiai~=0.2.0) (2.8.1)\n",
      "Requirement already satisfied: numpy>=1.18.1 in c:\\users\\michael sass hansen\\appdata\\local\\programs\\python\\python37\\lib\\site-packages (from brevettiai~=0.2.0) (1.19.5)\n",
      "Requirement already satisfied: pytz>=2017.2 in c:\\users\\michael sass hansen\\appdata\\local\\programs\\python\\python37\\lib\\site-packages (from pandas<1.2,>=1.1->brevettiai~=0.2.0) (2020.1)\n",
      "Requirement already satisfied: retrying>=1.3.3 in c:\\users\\michael sass hansen\\appdata\\local\\programs\\python\\python37\\lib\\site-packages (from plotly>=4.14.3->brevettiai~=0.2.0) (1.3.3)\n",
      "Requirement already satisfied: six>=1.11.0 in c:\\users\\michael sass hansen\\appdata\\local\\programs\\python\\python37\\lib\\site-packages (from jsonschema->altair==4.1.0->brevettiai~=0.2.0) (1.15.0)\n",
      "Requirement already satisfied: typing-extensions>=3.7.4.3 in c:\\users\\michael sass hansen\\appdata\\local\\programs\\python\\python37\\lib\\site-packages (from pydantic>=1.8.2->brevettiai~=0.2.0) (3.7.4.3)\n",
      "Requirement already satisfied: six>=1.11.0 in c:\\users\\michael sass hansen\\appdata\\local\\programs\\python\\python37\\lib\\site-packages (from jsonschema->altair==4.1.0->brevettiai~=0.2.0) (1.15.0)\n",
      "Requirement already satisfied: six>=1.11.0 in c:\\users\\michael sass hansen\\appdata\\local\\programs\\python\\python37\\lib\\site-packages (from jsonschema->altair==4.1.0->brevettiai~=0.2.0) (1.15.0)\n",
      "Requirement already satisfied: chardet<4,>=3.0.2 in c:\\users\\michael sass hansen\\appdata\\local\\programs\\python\\python37\\lib\\site-packages (from requests>=2.23->brevettiai~=0.2.0) (3.0.4)\n",
      "Requirement already satisfied: certifi in c:\\users\\michael sass hansen\\appdata\\local\\programs\\python\\python37\\lib\\site-packages (from minio<7.1,>=7.0->brevettiai~=0.2.0) (2020.6.20)\n",
      "Requirement already satisfied: idna<3,>=2.5 in c:\\users\\michael sass hansen\\appdata\\local\\programs\\python\\python37\\lib\\site-packages (from requests>=2.23->brevettiai~=0.2.0) (2.10)\n",
      "Requirement already satisfied: urllib3 in c:\\users\\michael sass hansen\\appdata\\local\\programs\\python\\python37\\lib\\site-packages (from minio<7.1,>=7.0->brevettiai~=0.2.0) (1.25.10)\n",
      "Requirement already satisfied: six>=1.11.0 in c:\\users\\michael sass hansen\\appdata\\local\\programs\\python\\python37\\lib\\site-packages (from jsonschema->altair==4.1.0->brevettiai~=0.2.0) (1.15.0)\n",
      "Requirement already satisfied: threadpoolctl>=2.0.0 in c:\\users\\michael sass hansen\\appdata\\local\\programs\\python\\python37\\lib\\site-packages (from scikit-learn>=0.23.1->brevettiai~=0.2.0) (3.0.0)\n",
      "Requirement already satisfied: numpy>=1.18.1 in c:\\users\\michael sass hansen\\appdata\\local\\programs\\python\\python37\\lib\\site-packages (from brevettiai~=0.2.0) (1.19.5)\n",
      "Requirement already satisfied: scipy>=0.19.1 in c:\\users\\michael sass hansen\\appdata\\local\\programs\\python\\python37\\lib\\site-packages (from scikit-learn>=0.23.1->brevettiai~=0.2.0) (1.4.1)\n",
      "Requirement already satisfied: joblib>=0.11 in c:\\users\\michael sass hansen\\appdata\\local\\programs\\python\\python37\\lib\\site-packages (from scikit-learn>=0.23.1->brevettiai~=0.2.0) (1.1.0)\n",
      "Requirement already satisfied: numpy>=1.18.1 in c:\\users\\michael sass hansen\\appdata\\local\\programs\\python\\python37\\lib\\site-packages (from brevettiai~=0.2.0) (1.19.5)\n",
      "Requirement already satisfied: numpy>=1.18.1 in c:\\users\\michael sass hansen\\appdata\\local\\programs\\python\\python37\\lib\\site-packages (from brevettiai~=0.2.0) (1.19.5)\n",
      "Requirement already satisfied: onnx>=1.4.1 in c:\\users\\michael sass hansen\\appdata\\local\\programs\\python\\python37\\lib\\site-packages (from tf2onnx>=1.9.0->brevettiai~=0.2.0) (1.10.2)\n",
      "Requirement already satisfied: six>=1.11.0 in c:\\users\\michael sass hansen\\appdata\\local\\programs\\python\\python37\\lib\\site-packages (from jsonschema->altair==4.1.0->brevettiai~=0.2.0) (1.15.0)\n",
      "Requirement already satisfied: requests>=2.23 in c:\\users\\michael sass hansen\\appdata\\local\\programs\\python\\python37\\lib\\site-packages (from brevettiai~=0.2.0) (2.24.0)\n",
      "Requirement already satisfied: flatbuffers~=1.12 in c:\\users\\michael sass hansen\\appdata\\local\\programs\\python\\python37\\lib\\site-packages (from tf2onnx>=1.9.0->brevettiai~=0.2.0) (1.12)\n",
      "Requirement already satisfied: protobuf in c:\\users\\michael sass hansen\\appdata\\local\\programs\\python\\python37\\lib\\site-packages (from onnx>=1.4.1->tf2onnx>=1.9.0->brevettiai~=0.2.0) (3.12.4)\n",
      "Requirement already satisfied: numpy>=1.18.1 in c:\\users\\michael sass hansen\\appdata\\local\\programs\\python\\python37\\lib\\site-packages (from brevettiai~=0.2.0) (1.19.5)\n",
      "Requirement already satisfied: typing-extensions>=3.7.4.3 in c:\\users\\michael sass hansen\\appdata\\local\\programs\\python\\python37\\lib\\site-packages (from pydantic>=1.8.2->brevettiai~=0.2.0) (3.7.4.3)\n",
      "Requirement already satisfied: six>=1.11.0 in c:\\users\\michael sass hansen\\appdata\\local\\programs\\python\\python37\\lib\\site-packages (from jsonschema->altair==4.1.0->brevettiai~=0.2.0) (1.15.0)\n",
      "Requirement already satisfied: six>=1.11.0 in c:\\users\\michael sass hansen\\appdata\\local\\programs\\python\\python37\\lib\\site-packages (from jsonschema->altair==4.1.0->brevettiai~=0.2.0) (1.15.0)\n",
      "Requirement already satisfied: setuptools in c:\\users\\michael sass hansen\\appdata\\local\\programs\\python\\python37\\lib\\site-packages (from jsonschema->altair==4.1.0->brevettiai~=0.2.0) (47.1.0)\n",
      "Requirement already satisfied: colorama in c:\\users\\michael sass hansen\\appdata\\local\\programs\\python\\python37\\lib\\site-packages (from tqdm>=4.62->brevettiai~=0.2.0) (0.4.3)\n"
     ]
    }
   ],
   "source": [
    "pip install brevettiai~=0.2.0"
   ]
  },
  {
   "cell_type": "code",
   "execution_count": null,
   "metadata": {
    "id": "c6uIDiTBC9i8"
   },
   "outputs": [],
   "source": [
    "# Setup logging to avoid verbosity\n",
    "import logging\n",
    "log = logging.getLogger(__name__)\n",
    "logging.basicConfig()\n",
    "log.root.setLevel(logging.DEBUG)\n",
    "logging.getLogger(\"urllib3\").setLevel(logging.WARNING)\n",
    "logging.getLogger(\"tensorflow\").setLevel(logging.WARNING)\n",
    "logging.getLogger(\"matplotlib\").setLevel(logging.WARNING)"
   ]
  },
  {
   "cell_type": "markdown",
   "metadata": {
    "id": "71qsHIxXC9jA"
   },
   "source": [
    "# API: BrevettiAI Login\n",
    "\n",
    "High level access for automation of tasks on the platform, tagging, dataset management, models, etc...\n",
    "\n",
    "## Platform Login\n",
    "As on the web page you have 60 minutes of access before needing to log back in."
   ]
  },
  {
   "cell_type": "code",
   "execution_count": 3,
   "metadata": {
    "id": "bu3NPiicC9jB"
   },
   "outputs": [],
   "source": [
    "# Imports and setup\n",
    "from brevettiai.platform import BrevettiAI\n",
    "web = BrevettiAI()"
   ]
  },
  {
   "cell_type": "code",
   "execution_count": 2,
   "metadata": {
    "id": "K7TvidLVC9jE"
   },
   "outputs": [
    {
     "name": "stdout",
     "output_type": "stream",
     "text": [
      "Help on PlatformAPI in module brevettiai.platform.web_api object:\n",
      "\n",
      "class PlatformAPI(builtins.object)\n",
      " |  PlatformAPI(username=None, password=None, host=None)\n",
      " |  \n",
      " |  Methods defined here:\n",
      " |  \n",
      " |  __init__(self, username=None, password=None, host=None)\n",
      " |      Initialize self.  See help(type(self)) for accurate signature.\n",
      " |  \n",
      " |  create_dataset(self, name, reference='', notes='', tag_ids=None, application=None)\n",
      " |      Create dataset on platform\n",
      " |      :param name: Name of dataset\n",
      " |      :param tag_ids:\n",
      " |      :param application:\n",
      " |      :return:\n",
      " |  \n",
      " |  create_model(self, name, model_type, settings, datasets, tags=[], application=None)\n",
      " |      Create new model\n",
      " |      :param name:\n",
      " |      :param model_type:\n",
      " |      :param settings:\n",
      " |      :param datasets:\n",
      " |      :param tags:\n",
      " |      :param application:\n",
      " |      :param schema:\n",
      " |      :return:\n",
      " |  \n",
      " |  create_tag(self, name, parent_id=None)\n",
      " |      Create a tag on the platform\n",
      " |      :param name:\n",
      " |      :param parent_id: guid of tag parent or none to create root tag\n",
      " |      :return:\n",
      " |  \n",
      " |  create_testreport(self, model_id, datasets)\n",
      " |      Create new test report\n",
      " |      :param model_id:\n",
      " |      :param datasets:\n",
      " |      :return:\n",
      " |  \n",
      " |  delete_model(self, id=None)\n",
      " |      Get model or list of all models\n",
      " |      :param id: Guid of model (available in the url), or None\n",
      " |      :return:\n",
      " |  \n",
      " |  delete_sftp_user(self, dataset, user)\n",
      " |  \n",
      " |  delete_tag(self, id)\n",
      " |      Delete a tag by id\n",
      " |      :param id:\n",
      " |      :return:\n",
      " |  \n",
      " |  download_url(self, url, dst=None, headers=None)\n",
      " |  \n",
      " |  get_application(self, id=None, model_id=None)\n",
      " |      Get application by id\n",
      " |      :param id: either application id or model id\n",
      " |      :return:\n",
      " |  \n",
      " |  get_artifacts(self, model_id, prefix='', type='models')\n",
      " |      Get artifacts for model or test report\n",
      " |      :param model_id: Guid of model/test report (available in the url)\n",
      " |      :param prefix:\n",
      " |      :param type: 'models' / 'reports'\n",
      " |      :return:\n",
      " |  \n",
      " |  get_available_model_types(self)\n",
      " |      List all available model types\n",
      " |      :return:\n",
      " |  \n",
      " |  get_dataset(self, id=None, raw=False, write_access=False)\n",
      " |      Get dataset, or list of all datasets\n",
      " |      :param id: guid of dataset (accessible from url on platform) or None for all dataset\n",
      " |      :param raw: get as dict, or attempt parsing to Criterion Dataset\n",
      " |      :return:\n",
      " |  \n",
      " |  get_dataset_sts_assume_role_response(self, guid)\n",
      " |  \n",
      " |  get_devices(self, id=None)\n",
      " |  \n",
      " |  get_endpoint(self, endpoint, **kwargs)\n",
      " |  \n",
      " |  get_model(self, id=None)\n",
      " |      Get model or list of all models\n",
      " |      :param id: Guid of model (available in the url), or None\n",
      " |      :return:\n",
      " |  \n",
      " |  get_modeltype(self, id=None)\n",
      " |      Grt type of model\n",
      " |      :param id: model guid\n",
      " |      :return:\n",
      " |  \n",
      " |  get_project(self, id=None)\n",
      " |  \n",
      " |  get_report(self, id=None)\n",
      " |      Get test report, or list of all reports\n",
      " |      :param id: Guid of test report (available in the url), or None\n",
      " |      :return:\n",
      " |  \n",
      " |  get_schema(self, modeltype)\n",
      " |      Get schema for a certain model type\n",
      " |      :param modeltype: model type or guid\n",
      " |      :return:\n",
      " |  \n",
      " |  get_sftp_user(self, dataset, **kwargs)\n",
      " |  \n",
      " |  get_tag(self, id=None)\n",
      " |      Get tag or list of all tags\n",
      " |      :param id: tag guid\n",
      " |      :return:\n",
      " |  \n",
      " |  get_userinfo(self)\n",
      " |      Get info on user\n",
      " |      :return:\n",
      " |  \n",
      " |  login(self, username, password)\n",
      " |  \n",
      " |  start_model_training(self, model, submitCloudJob=False)\n",
      " |      Start training flow\n",
      " |      :param model: model or model id\n",
      " |      :param submitCloudJob: submit training to the cloud\n",
      " |      :return: updated model\n",
      " |  \n",
      " |  stop_model_training(self, model, submitCloudJob=False)\n",
      " |      Stop training flow\n",
      " |      :param model: model or model id\n",
      " |      :param submitCloudJob: submit training to google cloud\n",
      " |      :return: updated model\n",
      " |  \n",
      " |  update_dataset(self, id, *, name: str, reference: str, notes: str, tags: list, locked: bool)\n",
      " |      Update dataset on platform\n",
      " |      :param id: guid of dataset\n",
      " |      :param name: dataset name\n",
      " |      :param reference: dataset reference\n",
      " |      :param notes: dataset notes\n",
      " |      :param tags: list of tag ids (each represented by a string)\n",
      " |      :param locked: sets the lock status of the dataset\n",
      " |      :return:\n",
      " |  \n",
      " |  update_dataset_permission(self, id, userId, groupId=None, permissionType='Editor')\n",
      " |      Update dataset permissions for user\n",
      " |      :param id:\n",
      " |      :param userId:\n",
      " |      :param groupId:\n",
      " |      :param permissionType:\n",
      " |      :return:\n",
      " |  \n",
      " |  ----------------------------------------------------------------------\n",
      " |  Data descriptors defined here:\n",
      " |  \n",
      " |  __dict__\n",
      " |      dictionary for instance variables (if defined)\n",
      " |  \n",
      " |  __weakref__\n",
      " |      list of weak references to the object (if defined)\n",
      " |  \n",
      " |  antiforgery_headers\n",
      " |      Get anti forgery headers from platform\n",
      " |      :return:\n",
      " |  \n",
      " |  backend\n",
      " |  \n",
      " |  host\n",
      "\n"
     ]
    }
   ],
   "source": [
    "help(web)\n",
    "model_id = os.getenv(\"job_id\") or input(\"Training job model id (can be read from url https://platform.brevetti.ai/models/{model_id})\")\n",
    "api_key = os.getenv(\"api_key\")"
   ]
  },
  {
   "cell_type": "markdown",
   "metadata": {
    "id": "ZcEqjHHqC9jI"
   },
   "source": [
    "# API: Element acces, list datasets, tags, models...\n",
    "\n",
    "with the web object you can list, manage and edit elements on the web page.\n",
    "Most of the functions require an id, the guid of the object to manipulate. Alternatively to get all use None as id.\n",
    "\n",
    "EX: to list datasets, tags, and models, call get_... with no id (id=None)"
   ]
  },
  {
   "cell_type": "code",
   "execution_count": 3,
   "metadata": {
    "id": "ivoieBPXC9jI"
   },
   "outputs": [
    {
     "data": {
      "text/plain": [
       "['NeurIPS 2018',\n",
       " 'NeurIPS 2018 large',\n",
       " 'Blood Cell Images',\n",
       " 'Agar plates',\n",
       " 'NeurIPS vials TRAIN']"
      ]
     },
     "execution_count": 3,
     "metadata": {},
     "output_type": "execute_result"
    }
   ],
   "source": [
    "datasets = web.get_dataset()\n",
    "tags = web.get_tag()\n",
    "models = web.get_model()\n",
    "\n",
    "# List 10 first dataset names\n",
    "[d.name for d in datasets][:10]"
   ]
  },
  {
   "cell_type": "markdown",
   "metadata": {
    "id": "nt6p8qDIC9jL"
   },
   "source": [
    "For a single dataset, model or ... use the get_... functions with an id"
   ]
  },
  {
   "cell_type": "code",
   "execution_count": 4,
   "metadata": {
    "id": "FPUCMbdiC9jL"
   },
   "outputs": [
    {
     "data": {
      "text/plain": [
       "<brevettiai.platform.dataset.Dataset at 0x2c006a11ec8>"
      ]
     },
     "execution_count": 4,
     "metadata": {},
     "output_type": "execute_result"
    }
   ],
   "source": [
    "dataset = web.get_dataset(datasets[0].id)\n",
    "dataset"
   ]
  },
  {
   "cell_type": "markdown",
   "metadata": {
    "id": "gEZysRXkHuB6"
   },
   "source": [
    "# API: Customized Job Settings\n",
    "Settings are esstentially the serialized configuration of a training job algorithm.\n",
    "Settings can be used for a training job configuration by letting a user change settings, and settings are included in the default job output, such that the parameters of a training job can be saved and tracked for comparison and audit purposes."
   ]
  },
  {
   "cell_type": "code",
   "execution_count": 5,
   "metadata": {
    "id": "TV8i-58qH1mT"
   },
   "outputs": [
    {
     "name": "stdout",
     "output_type": "stream",
     "text": [
      "{'multiply_factor': 3.0, 'enable': True}\n"
     ]
    }
   ],
   "source": [
    "from brevettiai.interfaces.vue_schema_utils import VueSettingsModule as SettingsModule\n",
    "\n",
    "class MyAlgoObject(SettingsModule):\n",
    "    def __init__(self, multiply_factor: float = 2.0, \n",
    "                 enable : bool = True):\n",
    "        self.multiply_factor = multiply_factor\n",
    "        self.enable = enable\n",
    "    def __call__(self, x):\n",
    "        factor = 1.0\n",
    "        if self.enable:\n",
    "            factor *= self.multiply_factor\n",
    "        return x * factor\n",
    "test_obj = MyAlgoObject(multiply_factor=3.0)\n",
    "\n",
    "# Settings used for creating the job\n",
    "settings = test_obj.get_settings()\n",
    "print(settings)"
   ]
  },
  {
   "cell_type": "markdown",
   "metadata": {
    "id": "xkw9RzuJC9jO"
   },
   "source": [
    "# API: Create Model Training Job\n",
    "To enter the job context you can either create a model on the platform or programatically via the web api.\n",
    "\n",
    "The following code finds the firs dataset and creates a model (job) with access to this model.\n",
    "The model context type is the id of a model type on the platform to use.\n",
    "After running the model is available on the website, along with an s3 bucket for artifacts for your job outputs\n",
    "\n",
    "\n",
    "When creating a model you have the option to include datasets and tags and settings defining your model."
   ]
  },
  {
   "cell_type": "code",
   "execution_count": 6,
   "metadata": {
    "id": "hzvtkGO_C9jP"
   },
   "outputs": [
    {
     "ename": "TypeError",
     "evalue": "'Dataset' object is not subscriptable",
     "output_type": "error",
     "traceback": [
      "\u001b[1;31m---------------------------------------------------------------------------\u001b[0m",
      "\u001b[1;31mTypeError\u001b[0m                                 Traceback (most recent call last)",
      "\u001b[1;32m<ipython-input-6-934c6cf5d88f>\u001b[0m in \u001b[0;36m<module>\u001b[1;34m\u001b[0m\n\u001b[0;32m      7\u001b[0m                              \u001b[0mmodel_type\u001b[0m\u001b[1;33m=\u001b[0m\u001b[0mmodel_context_type\u001b[0m\u001b[1;33m,\u001b[0m\u001b[1;33m\u001b[0m\u001b[1;33m\u001b[0m\u001b[0m\n\u001b[0;32m      8\u001b[0m                              \u001b[0msettings\u001b[0m\u001b[1;33m=\u001b[0m\u001b[0msettings\u001b[0m\u001b[1;33m,\u001b[0m\u001b[1;33m\u001b[0m\u001b[1;33m\u001b[0m\u001b[0m\n\u001b[1;32m----> 9\u001b[1;33m                              datasets=datasets)\n\u001b[0m",
      "\u001b[1;32mC:\\libs\\tf2\\lib\\site-packages\\brevettiai\\platform\\web_api.py\u001b[0m in \u001b[0;36mcreate_model\u001b[1;34m(self, name, model_type, settings, datasets, tags, application)\u001b[0m\n\u001b[0;32m    306\u001b[0m             \u001b[0msettings\u001b[0m\u001b[1;33m=\u001b[0m\u001b[0ms_\u001b[0m\u001b[1;33m,\u001b[0m\u001b[1;33m\u001b[0m\u001b[1;33m\u001b[0m\u001b[0m\n\u001b[0;32m    307\u001b[0m             \u001b[0mtagIds\u001b[0m\u001b[1;33m=\u001b[0m\u001b[1;33m[\u001b[0m\u001b[0mx\u001b[0m \u001b[1;32mif\u001b[0m \u001b[0misinstance\u001b[0m\u001b[1;33m(\u001b[0m\u001b[0mx\u001b[0m\u001b[1;33m,\u001b[0m \u001b[0mstr\u001b[0m\u001b[1;33m)\u001b[0m \u001b[1;32melse\u001b[0m \u001b[0mx\u001b[0m\u001b[1;33m[\u001b[0m\u001b[1;34m\"id\"\u001b[0m\u001b[1;33m]\u001b[0m \u001b[1;32mfor\u001b[0m \u001b[0mx\u001b[0m \u001b[1;32min\u001b[0m \u001b[0mtags\u001b[0m\u001b[1;33m]\u001b[0m\u001b[1;33m,\u001b[0m\u001b[1;33m\u001b[0m\u001b[1;33m\u001b[0m\u001b[0m\n\u001b[1;32m--> 308\u001b[1;33m             \u001b[0mdatasetIds\u001b[0m\u001b[1;33m=\u001b[0m\u001b[1;33m[\u001b[0m\u001b[0mx\u001b[0m \u001b[1;32mif\u001b[0m \u001b[0misinstance\u001b[0m\u001b[1;33m(\u001b[0m\u001b[0mx\u001b[0m\u001b[1;33m,\u001b[0m \u001b[0mstr\u001b[0m\u001b[1;33m)\u001b[0m \u001b[1;32melse\u001b[0m \u001b[0mx\u001b[0m\u001b[1;33m[\u001b[0m\u001b[1;34m\"id\"\u001b[0m\u001b[1;33m]\u001b[0m \u001b[1;32mfor\u001b[0m \u001b[0mx\u001b[0m \u001b[1;32min\u001b[0m \u001b[0mdatasets\u001b[0m\u001b[1;33m]\u001b[0m\u001b[1;33m\u001b[0m\u001b[1;33m\u001b[0m\u001b[0m\n\u001b[0m\u001b[0;32m    309\u001b[0m         )\n\u001b[0;32m    310\u001b[0m         \u001b[1;32mif\u001b[0m \u001b[0mapplication\u001b[0m \u001b[1;32mis\u001b[0m \u001b[1;32mnot\u001b[0m \u001b[1;32mNone\u001b[0m\u001b[1;33m:\u001b[0m\u001b[1;33m\u001b[0m\u001b[1;33m\u001b[0m\u001b[0m\n",
      "\u001b[1;32mC:\\libs\\tf2\\lib\\site-packages\\brevettiai\\platform\\web_api.py\u001b[0m in \u001b[0;36m<listcomp>\u001b[1;34m(.0)\u001b[0m\n\u001b[0;32m    306\u001b[0m             \u001b[0msettings\u001b[0m\u001b[1;33m=\u001b[0m\u001b[0ms_\u001b[0m\u001b[1;33m,\u001b[0m\u001b[1;33m\u001b[0m\u001b[1;33m\u001b[0m\u001b[0m\n\u001b[0;32m    307\u001b[0m             \u001b[0mtagIds\u001b[0m\u001b[1;33m=\u001b[0m\u001b[1;33m[\u001b[0m\u001b[0mx\u001b[0m \u001b[1;32mif\u001b[0m \u001b[0misinstance\u001b[0m\u001b[1;33m(\u001b[0m\u001b[0mx\u001b[0m\u001b[1;33m,\u001b[0m \u001b[0mstr\u001b[0m\u001b[1;33m)\u001b[0m \u001b[1;32melse\u001b[0m \u001b[0mx\u001b[0m\u001b[1;33m[\u001b[0m\u001b[1;34m\"id\"\u001b[0m\u001b[1;33m]\u001b[0m \u001b[1;32mfor\u001b[0m \u001b[0mx\u001b[0m \u001b[1;32min\u001b[0m \u001b[0mtags\u001b[0m\u001b[1;33m]\u001b[0m\u001b[1;33m,\u001b[0m\u001b[1;33m\u001b[0m\u001b[1;33m\u001b[0m\u001b[0m\n\u001b[1;32m--> 308\u001b[1;33m             \u001b[0mdatasetIds\u001b[0m\u001b[1;33m=\u001b[0m\u001b[1;33m[\u001b[0m\u001b[0mx\u001b[0m \u001b[1;32mif\u001b[0m \u001b[0misinstance\u001b[0m\u001b[1;33m(\u001b[0m\u001b[0mx\u001b[0m\u001b[1;33m,\u001b[0m \u001b[0mstr\u001b[0m\u001b[1;33m)\u001b[0m \u001b[1;32melse\u001b[0m \u001b[0mx\u001b[0m\u001b[1;33m[\u001b[0m\u001b[1;34m\"id\"\u001b[0m\u001b[1;33m]\u001b[0m \u001b[1;32mfor\u001b[0m \u001b[0mx\u001b[0m \u001b[1;32min\u001b[0m \u001b[0mdatasets\u001b[0m\u001b[1;33m]\u001b[0m\u001b[1;33m\u001b[0m\u001b[1;33m\u001b[0m\u001b[0m\n\u001b[0m\u001b[0;32m    309\u001b[0m         )\n\u001b[0;32m    310\u001b[0m         \u001b[1;32mif\u001b[0m \u001b[0mapplication\u001b[0m \u001b[1;32mis\u001b[0m \u001b[1;32mnot\u001b[0m \u001b[1;32mNone\u001b[0m\u001b[1;33m:\u001b[0m\u001b[1;33m\u001b[0m\u001b[1;33m\u001b[0m\u001b[0m\n",
      "\u001b[1;31mTypeError\u001b[0m: 'Dataset' object is not subscriptable"
     ]
    }
   ],
   "source": [
    "# Datasets to add to the created job\n",
    "datasets = web.get_dataset()[1:2]\n",
    "\n",
    "model_context_type = \"a0aaad69-c032-41c1-a68c-e9a15a5fb18c\" # \"Magic\" undocumented uId of *external* job model type\n",
    "\n",
    "model_def = web.create_model(name=f'Test {web.user[\"firstName\"]} {web.user[\"lastName\"]}',\n",
    "                             model_type=model_context_type,\n",
    "                             settings=settings,\n",
    "                             datasets=datasets)"
   ]
  },
  {
   "cell_type": "markdown",
   "metadata": {
    "id": "QhcCbwzXb4jg"
   },
   "source": [
    "## Start job"
   ]
  },
  {
   "cell_type": "markdown",
   "metadata": {
    "id": "U3wZ_OpPb4jg"
   },
   "source": [
    "The model id and the model api key gives you access to use the python sdk to access data, and to upload artifacts and lots of other cool stuff. To enable this, we need to start model training - this is the same as selecting \"Simulate training\" on the platform."
   ]
  },
  {
   "cell_type": "code",
   "execution_count": null,
   "metadata": {
    "id": "eSYwo9ixb4jh"
   },
   "outputs": [],
   "source": [
    "# Starting training in simulate mode\n",
    "web.start_model_training(model=model_def['id'])\n",
    "print(f\"Model url: {web.host}/models/{model_def['id']} (Please check it out :)\\n\")\n",
    "print(\"To access data and model through python SDK use the following\")\n",
    "print(f\"Model id: {model_def['id']}\")\n",
    "print(f\"Model api key: {model_def['apiKey']}\")"
   ]
  },
  {
   "cell_type": "markdown",
   "metadata": {
    "id": "0wa6DnwmFwIp"
   },
   "source": [
    "## NB: Delete job\n",
    "If the job has not been deployed, and you are e.g. just testing interfaces, you may delete a job"
   ]
  },
  {
   "cell_type": "code",
   "execution_count": null,
   "metadata": {
    "id": "GbaazA-7FukP"
   },
   "outputs": [],
   "source": [
    "# NB: delete model, there is no simple \"undo\" funcionality for this\n",
    "web.delete_model(id=model_def['id'])"
   ]
  }
 ],
 "metadata": {
  "colab": {
   "collapsed_sections": [],
   "name": "brevettiai_web_api_documentation.ipynb",
   "provenance": [],
   "toc_visible": true
  },
  "kernelspec": {
   "display_name": "tf2",
   "language": "python",
   "name": "tf2"
  },
  "language_info": {
   "codemirror_mode": {
    "name": "ipython",
    "version": 3
   },
   "file_extension": ".py",
   "mimetype": "text/x-python",
   "name": "python",
   "nbconvert_exporter": "python",
   "pygments_lexer": "ipython3",
   "version": "3.7.8"
  }
 },
 "nbformat": 4,
 "nbformat_minor": 1
}
