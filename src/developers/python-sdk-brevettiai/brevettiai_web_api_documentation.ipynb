{
  "nbformat": 4,
  "nbformat_minor": 0,
  "metadata": {
    "colab": {
      "name": "brevettiai_web_api_documentation.ipynb",
      "provenance": [],
      "collapsed_sections": [],
      "toc_visible": true
    },
    "kernelspec": {
      "display_name": "tf2",
      "language": "python",
      "name": "tf2"
    },
    "language_info": {
      "codemirror_mode": {
        "name": "ipython",
        "version": 3
      },
      "file_extension": ".py",
      "mimetype": "text/x-python",
      "name": "python",
      "nbconvert_exporter": "python",
      "pygments_lexer": "ipython3",
      "version": "3.7.8"
    }
  },
  "cells": [
    {
      "cell_type": "markdown",
      "metadata": {
        "id": "sU83z35oboyp"
      },
      "source": [
        "# Introduction\n",
        "The python web api implementation found in the brevettai package gives a lightweight programmatical interface to all the functionality that the [Brevetti AI platform](https://platform.brevetti.ai) offers.\n",
        "\n",
        "This enables high level access for\n",
        "* automation of tasks on the platform\n",
        "* tagging of datasets or models\n",
        "* dataset management\n",
        "* managing models etc...\n",
        "\n",
        "This document shows how this api can be used to get access to datasets and create a model training job.\n",
        "\n",
        "Web access is granted with your website user, allowing you to automate tasks on the platform. In Python this is achieved through the **BrevettiAI** object."
      ]
    },
    {
      "cell_type": "markdown",
      "metadata": {
        "id": "uzEXlRHhEavu"
      },
      "source": [
        "# Brevetti AI package installation and imports"
      ]
    },
    {
      "cell_type": "code",
      "metadata": {
        "id": "Z7MCqSgiEY83"
      },
      "source": [
        "pip install -U git+https://bitbucket.org/criterionai/core"
      ],
      "execution_count": null,
      "outputs": []
    },
    {
      "cell_type": "code",
      "metadata": {
        "id": "c6uIDiTBC9i8"
      },
      "source": [
        "# Setup logging to avoid verbosity\n",
        "import logging\n",
        "log = logging.getLogger(__name__)\n",
        "logging.basicConfig()\n",
        "log.root.setLevel(logging.DEBUG)\n",
        "logging.getLogger(\"urllib3\").setLevel(logging.WARNING)"
      ],
      "execution_count": null,
      "outputs": []
    },
    {
      "cell_type": "markdown",
      "metadata": {
        "id": "71qsHIxXC9jA"
      },
      "source": [
        "# API: BrevettiAI Access\n",
        "\n",
        "High level access for automation of tasks on the platform, tagging, dataset management, models, etc...\n",
        "\n",
        "## Platform Login\n",
        "As on the web page you have 15 minutes of access before needing to log back in."
      ]
    },
    {
      "cell_type": "code",
      "metadata": {
        "id": "bu3NPiicC9jB"
      },
      "source": [
        "# Imports and setup\n",
        "from brevettiai.platform import BrevettiAI\n",
        "web = BrevettiAI()"
      ],
      "execution_count": null,
      "outputs": []
    },
    {
      "cell_type": "code",
      "metadata": {
        "id": "K7TvidLVC9jE"
      },
      "source": [
        "help(web)"
      ],
      "execution_count": null,
      "outputs": []
    },
    {
      "cell_type": "markdown",
      "metadata": {
        "id": "ZcEqjHHqC9jI"
      },
      "source": [
        "# API: List datasets, tags, models...\n",
        "\n",
        "with the web object you can list, manage and edit elements on the web page.\n",
        "Most of the functions require an id, the guid of the object to manipulate. Alternatively to get all use None as id.\n",
        "\n",
        "EX: to list datasets, tags, and models, call get_... with no id (id=None)"
      ]
    },
    {
      "cell_type": "code",
      "metadata": {
        "id": "ivoieBPXC9jI"
      },
      "source": [
        "datasets = web.get_dataset()\n",
        "tags = web.get_tag()\n",
        "models = web.get_model()\n",
        "\n",
        "# List 10 first dataset names\n",
        "[d[\"name\"] for d in datasets][:10]"
      ],
      "execution_count": null,
      "outputs": []
    },
    {
      "cell_type": "markdown",
      "metadata": {
        "id": "nt6p8qDIC9jL"
      },
      "source": [
        "For a single dataset, model or ... use the get_... functions with an id"
      ]
    },
    {
      "cell_type": "code",
      "metadata": {
        "id": "FPUCMbdiC9jL"
      },
      "source": [
        "dataset = web.get_dataset(datasets[0][\"id\"])\n",
        "dataset"
      ],
      "execution_count": null,
      "outputs": []
    },
    {
      "cell_type": "markdown",
      "metadata": {
        "id": "gEZysRXkHuB6"
      },
      "source": [
        "# API: Customized Job Settings\n",
        "Settings are esstentially the serialized configuration of a training job algorithm.\n",
        "Settings can be used for a training job configuration by letting a user change settings, and settings are included in the default job output, such that the parameters of a training job can be saved and tracked for comparison and audit purposes."
      ]
    },
    {
      "cell_type": "code",
      "metadata": {
        "id": "TV8i-58qH1mT"
      },
      "source": [
        "from brevettiai.interfaces.vue_schema_utils import VueSettingsModule as SettingsModule\n",
        "\n",
        "class MyAlgoObject(SettingsModule):\n",
        "    def __init__(self, multiply_factor: float = 2.0, \n",
        "                 enable : bool = True):\n",
        "        self.multiply_factor = multiply_factor\n",
        "        self.enable = enable\n",
        "    def __call__(self, x):\n",
        "        factor = 1.0\n",
        "        if self.enable:\n",
        "            factor *= self.multiply_factor\n",
        "        return x * factor\n",
        "test_obj = MyAlgoObject(multiply_factor=3.0)\n",
        "\n",
        "# Settings used for creating the job\n",
        "settings = test_obj.get_settings()\n",
        "print(settings)"
      ],
      "execution_count": null,
      "outputs": []
    },
    {
      "cell_type": "markdown",
      "metadata": {
        "id": "xkw9RzuJC9jO"
      },
      "source": [
        "# API: Create Job\n",
        "To enter the job context you can either create a model on the platform or programatically via the web api.\n",
        "\n",
        "The following code finds the firs dataset and creates a model (job) with access to this model.\n",
        "The model context type is the id of a model type on the platform to use.\n",
        "After running the model is available on the website, along with an s3 bucket for artifacts for your job outputs\n",
        "\n",
        "\n",
        "When creating a model you have the option to include datasets and tags and settings defining your model."
      ]
    },
    {
      "cell_type": "code",
      "metadata": {
        "id": "hzvtkGO_C9jP"
      },
      "source": [
        "# Datasets to add to the created job\n",
        "datasets = web.get_dataset()[1:2]\n",
        "\n",
        "model_context_type = \"a0aaad69-c032-41c1-a68c-e9a15a5fb18c\" # \"Magic\" undocumented uId of *external* job model type\n",
        "\n",
        "model_def = web.create_model(name=f'Test {web.user[\"firstName\"]} {web.user[\"lastName\"]}',\n",
        "                             model_type=model_context_type,\n",
        "                             settings=settings,\n",
        "                             datasets=datasets)"
      ],
      "execution_count": null,
      "outputs": []
    },
    {
      "cell_type": "markdown",
      "metadata": {
        "id": "QhcCbwzXb4jg"
      },
      "source": [
        "## Start job"
      ]
    },
    {
      "cell_type": "markdown",
      "metadata": {
        "id": "U3wZ_OpPb4jg"
      },
      "source": [
        "The model id and the model api key gives you access to use the python sdk to access data, and to upload artifacts and lots of other cool stuff. To enable this, we need to start model training - this is the same as selecting \"Simulate training\" on the platform."
      ]
    },
    {
      "cell_type": "code",
      "metadata": {
        "id": "eSYwo9ixb4jh"
      },
      "source": [
        "# Starting training in simulate mode\n",
        "web.start_model_training(model=model_def['id'])\n",
        "print(f\"Model url: {web.host}/models/{model_def['id']} (Please check it out :)\\n\")\n",
        "print(\"To access data and model through python SDK use the following\")\n",
        "print(f\"Model id: {model_def['id']}\")\n",
        "print(f\"Model api key: {model_def['apiKey']}\")"
      ],
      "execution_count": null,
      "outputs": []
    },
    {
      "cell_type": "markdown",
      "metadata": {
        "id": "0wa6DnwmFwIp"
      },
      "source": [
        "## NB: Delete job\n",
        "If the job has not been deployed, and you are e.g. just testing interfaces, you may delete a job"
      ]
    },
    {
      "cell_type": "code",
      "metadata": {
        "id": "GbaazA-7FukP"
      },
      "source": [
        "# NB: delete model, there is no simple \"undo\" funcionality for this\n",
        "web.delete_model(id=model_def['id'])"
      ],
      "execution_count": null,
      "outputs": []
    }
  ]
}