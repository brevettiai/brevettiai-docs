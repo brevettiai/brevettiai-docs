{
 "cells": [
  {
   "cell_type": "code",
   "execution_count": null,
   "metadata": {},
   "outputs": [],
   "source": [
    "pip install brevettiai"
   ]
  },
  {
   "cell_type": "code",
   "execution_count": null,
   "metadata": {},
   "outputs": [],
   "source": [
    "import os\n",
    "import getpass\n",
    "model_id = os.getenv(\"job_id\") or input(\"Training job model id (can be read from url https://platform.brevetti.ai/models/{model_id})\")\n",
    "api_key = os.getenv(\"api_key\") or getpass.getpass(\"Training job Api Key:\")"
   ]
  },
  {
   "cell_type": "markdown",
   "metadata": {},
   "source": [
    "# API: Accessing the training job from python"
   ]
  },
  {
   "cell_type": "code",
   "execution_count": null,
   "metadata": {},
   "outputs": [],
   "source": [
    "from brevettiai.platform import Job\n",
    " \n",
    "job = Job.init(job_id=model_id, api_key=api_key)\n",
    "job.start(complete_job=False)"
   ]
  },
  {
   "cell_type": "markdown",
   "metadata": {},
   "source": [
    "# Query the image samples in the training job"
   ]
  },
  {
   "cell_type": "code",
   "execution_count": null,
   "metadata": {},
   "outputs": [],
   "source": [
    "from brevettiai.data.sample_tools import BrevettiDatasetSamples\n",
    "samples = BrevettiDatasetSamples().get_image_samples(job.datasets)\n",
    "samples.head(5)"
   ]
  },
  {
   "cell_type": "markdown",
   "metadata": {},
   "source": [
    "# Using job.io to download samples"
   ]
  },
  {
   "cell_type": "code",
   "execution_count": null,
   "metadata": {},
   "outputs": [],
   "source": [
    "# io_tools is accessible from the job object or directly via import 'from brevettiai.io import io_tools'\n",
    "# Note that access rights are configured on the IoTools object, and as such different instances of the object\n",
    "# does not neccesarily have access to the same files. \n",
    "io_tools = job.io\n",
    "\n",
    "# Buffer with binary file content of first image sample\n",
    "buf = io_tools.read_file(samples.path[0])\n",
    "buf[:10]"
   ]
  },
  {
   "cell_type": "code",
   "execution_count": null,
   "metadata": {},
   "outputs": [],
   "source": [
    "# Copy the first image sample file to your local drive\n",
    "io_tools.copy(samples.path[0], samples.path[0].split(\"/\")[-1])\n",
    "print(f\"s3 'bucket' path: {samples.path[0]}\")\n",
    "print(\"Listing local directory\")\n",
    "os.listdir(\".\")"
   ]
  }
 ],
 "metadata": {
  "kernelspec": {
   "display_name": "tf2",
   "language": "python",
   "name": "tf2"
  },
  "language_info": {
   "codemirror_mode": {
    "name": "ipython",
    "version": 3
   },
   "file_extension": ".py",
   "mimetype": "text/x-python",
   "name": "python",
   "nbconvert_exporter": "python",
   "pygments_lexer": "ipython3",
   "version": "3.7.8"
  }
 },
 "nbformat": 4,
 "nbformat_minor": 4
}
